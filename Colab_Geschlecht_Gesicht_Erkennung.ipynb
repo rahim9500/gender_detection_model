{
  "cells": [
    {
      "cell_type": "code",
      "execution_count": null,
      "metadata": {
        "colab": {
          "base_uri": "https://localhost:8080/"
        },
        "id": "qxxdr4UZ-Hae",
        "outputId": "18bb49ed-6fdc-4d60-85ec-008a6bb26c0a"
      },
      "outputs": [
        {
          "name": "stdout",
          "output_type": "stream",
          "text": [
            "Warning: Your Kaggle API key is readable by other users on this system! To fix this, you can run 'chmod 600 /root/.kaggle/kaggle.json'\n",
            "Downloading gender-classification-dataset.zip to /content\n",
            " 98% 265M/269M [00:01<00:00, 244MB/s]\n",
            "100% 269M/269M [00:01<00:00, 199MB/s]\n"
          ]
        }
      ],
      "source": [
        "\"\"\"\n",
        "Quelle: https://www.kaggle.com/datasets/cashutosh/gender-classification-dataset?resource=download\n",
        "Hier haben wir einen Datensatz von Kaggle über Gesichter Geschlechtererkennung\n",
        "\"\"\"\n",
        "!mkdir -p ~/.kaggle\n",
        "!cp kaggle.json ~/.kaggle/\n",
        "!kaggle datasets download -d cashutosh/gender-classification-dataset"
      ]
    },
    {
      "cell_type": "code",
      "execution_count": null,
      "metadata": {
        "id": "GsjeXd8I-UuY"
      },
      "outputs": [],
      "source": [
        "import zipfile\n",
        "import os\n",
        "import re\n",
        "import torch\n",
        "import torch.nn as nn\n",
        "import torch.optim as optim\n",
        "from torch.utils.data import DataLoader, Dataset\n",
        "from torchvision import transforms\n",
        "from PIL import Image\n",
        "from google.colab import drive\n",
        "import matplotlib.pyplot as plt\n",
        "\"\"\"\n",
        "Hier haben wir alle relevanten imports\n",
        "\"\"\""
      ]
    },
    {
      "cell_type": "code",
      "execution_count": null,
      "metadata": {
        "id": "o0AviG_m-qsb"
      },
      "outputs": [],
      "source": [
        "\"\"\"\n",
        "Quelle: https://www.kaggle.com/datasets/cashutosh/gender-classification-dataset?resource=download\n",
        "Entpacken von dem Datensatz-Zip-Datei\n",
        "\"\"\"\n",
        "try:\n",
        "    with zipfile.ZipFile(\"/content/gender-classification-dataset.zip\", \"r\") as zip_ref:\n",
        "        zip_ref.extractall(\"/content\")\n",
        "except FileNotFoundError:\n",
        "    print(\"Datei wurde nicht gefunden\")"
      ]
    },
    {
      "cell_type": "code",
      "execution_count": null,
      "metadata": {
        "id": "9JGrncWPBTyh"
      },
      "outputs": [],
      "source": [
        "\"\"\"\n",
        "Quelle: https://www.kaggle.com/datasets/cashutosh/gender-classification-dataset?resource=download\n",
        "Objektorientierung: Eigene Klasse für die Datensätze\n",
        "\"\"\"\n",
        "class GenderDataset(Dataset):\n",
        "    def __init__(self, directory, transform=None):\n",
        "        self.directory = directory\n",
        "        self.transform = transform\n",
        "        self.images = [os.path.join(gender_dir, img_file)\n",
        "                       for gender in [\"male\", \"female\"]\n",
        "                       for gender_dir in [os.path.join(directory, gender)]\n",
        "                       for img_file in os.listdir(gender_dir)\n",
        "                       if re.match(r'.*\\.jpg$', img_file)]\n",
        "        self.labels = [label for gender in [\"male\", \"female\"]\n",
        "                       for label, gender_dir in enumerate([os.path.join(directory, gender)])\n",
        "                       for img_file in os.listdir(gender_dir)\n",
        "                       if re.match(r'.*\\.jpg$', img_file)]\n",
        "\n",
        "        for label, gender in enumerate([\"male\", \"female\"]):\n",
        "            gender_dir = os.path.join(directory, gender)\n",
        "            for img_file in os.listdir(gender_dir):\n",
        "                if img_file.endswith(\".jpg\"):\n",
        "                    img_path = os.path.join(gender_dir, img_file)\n",
        "                    self.images.append(img_path)\n",
        "                    self.labels.append(label)\n",
        "\n",
        "    def __len__(self):\n",
        "        return len(self.images)\n",
        "\n",
        "    def __getitem__(self, idx):\n",
        "        image = Image.open(self.images[idx])\n",
        "        label = self.labels[idx]\n",
        "\n",
        "        if self.transform:\n",
        "            image = self.transform(image)\n",
        "\n",
        "        return image, label"
      ]
    },
    {
      "cell_type": "code",
      "execution_count": null,
      "metadata": {
        "id": "TOvSbIVxBuP8"
      },
      "outputs": [],
      "source": [
        "\"\"\"\n",
        "Visualisierung der Aufteilung der Datensätze\n",
        "\"\"\"\n",
        "def visualize_data_distribution(dataset):\n",
        "    label_to_str = lambda x: 'Männlich' if x == 0 else 'Weiblich'\n",
        "    labels = [label_to_str(label) for _, label in dataset]\n",
        "    label_count = {label: labels.count(label) for label in set(labels)}\n",
        "\n",
        "    sizes = [label_count['Männlich'], label_count['Weiblich']]\n",
        "    colors = ['lightblue', 'lightcoral']\n",
        "    explode = (0.1, 0)\n",
        "\n",
        "    plt.pie(sizes, explode=explode, labels=list(label_count.keys()), colors=colors,\n",
        "            autopct='%1.1f%%', shadow=True, startangle=140)\n",
        "    plt.axis('equal')\n",
        "    plt.title(\"Verteilung der Daten im Dataset\")\n",
        "    plt.show()"
      ]
    },
    {
      "cell_type": "code",
      "execution_count": null,
      "metadata": {
        "id": "MVhnqsyzB5nQ"
      },
      "outputs": [],
      "source": [
        "\"\"\"\n",
        "Quelle: https://www.youtube.com/watch?v=V_xro1bcAuA&t=43293s&ab_channel=freeCodeCamp.org\n",
        "KI arbeiten mit Zahlen,\n",
        "deshalb werden die Daten in Tensors umgewandelt.\n",
        "\"\"\"\n",
        "\n",
        "transform = transforms.Compose(\n",
        "    [\n",
        "        transforms.Resize((224, 224)),\n",
        "        transforms.ToTensor(),\n",
        "    ]\n",
        ")"
      ]
    },
    {
      "cell_type": "code",
      "execution_count": null,
      "metadata": {
        "colab": {
          "base_uri": "https://localhost:8080/",
          "height": 434
        },
        "id": "pHNEuHVCCHev",
        "outputId": "e84714c0-20f5-444a-c1fb-793bff3af889"
      },
      "outputs": [
        {
          "data": {
            "image/png": "[encoded data removed]",
            "text/plain": [
              "<Figure size 640x480 with 1 Axes>"
            ]
          },
          "metadata": {},
          "output_type": "display_data"
        }
      ],
      "source": [
        "\"\"\"\n",
        "Quelle: https://www.youtube.com/watch?v=V_xro1bcAuA&t=43293s&ab_channel=freeCodeCamp.org\n",
        "Visualisierung der Aufteilung der Datensätze (Training Datensatz)\n",
        "\"\"\"\n",
        "dataset = GenderDataset(\"/content/Training\", transform)\n",
        "visualize_data_distribution(dataset)\n",
        "dataloader = DataLoader(dataset, batch_size=32, shuffle=True)"
      ]
    },
    {
      "cell_type": "code",
      "execution_count": null,
      "metadata": {
        "id": "BDmd752oDOEf"
      },
      "outputs": [],
      "source": [
        "\"\"\"\n",
        "Quelle: https://stefanobosisio1.medium.com/a-reverse-engineer-approach-to-explain-attention-and-memory-88ca63dfd1f1\n",
        "Das Künstliche Neuronales Netzwerk welches wir benutzen\n",
        "\"\"\"\n",
        "class SimpleCNN(nn.Module):\n",
        "    def __init__(self):\n",
        "        super(SimpleCNN, self).__init__()\n",
        "        self.conv1 = nn.Conv2d(3, 32, kernel_size=3, stride=1, padding=1)\n",
        "        self.conv2 = nn.Conv2d(32, 64, kernel_size=3, stride=1, padding=1)\n",
        "        self.fc1 = nn.Linear(64 * 56 * 56, 128)\n",
        "        self.fc2 = nn.Linear(128, 2)\n",
        "\n",
        "    def forward(self, x):\n",
        "        x = nn.functional.relu(self.conv1(x))\n",
        "        x = nn.functional.max_pool2d(x, 2)\n",
        "        x = nn.functional.relu(self.conv2(x))\n",
        "        x = nn.functional.max_pool2d(x, 2)\n",
        "        x = x.view(x.size(0), -1)  # Umformen für vollverbundene Schicht\n",
        "        x = nn.functional.relu(self.fc1(x))\n",
        "        x = self.fc2(x)\n",
        "        return x"
      ]
    },
    {
      "cell_type": "code",
      "execution_count": null,
      "metadata": {
        "colab": {
          "base_uri": "https://localhost:8080/",
          "height": 53
        },
        "id": "suy-CccwV62U",
        "outputId": "24e28c2c-9579-4950-8158-c0f8f0cb223a"
      },
      "outputs": [
        {
          "data": {
            "application/vnd.google.colaboratory.intrinsic+json": {
              "type": "string"
            },
            "text/plain": [
              "' \\nNur auskommentieren wenn man weiter trainieren möchte\\n\\nfor epoch in range(1):\\n    for images, labels in dataloader:\\n        # Forward-Pass\\n        outputs = model_1(images)\\n        loss = criterion(outputs, labels)\\n\\n        # Backward und Optimieren\\n        optimizer.zero_grad()\\n        loss.backward()\\n        optimizer.step()\\n'"
            ]
          },
          "execution_count": 10,
          "metadata": {},
          "output_type": "execute_result"
        }
      ],
      "source": [
        "\"\"\"\n",
        "Quelle: https://www.youtube.com/watch?v=V_xro1bcAuA&t=43293s&ab_channel=freeCodeCamp.org\n",
        "Treiningsablauf\n",
        "Hier wird das Modell trainiert. Die Menge an Durchläufen kann man einstellen,\n",
        "um das Ergebniss zu verbessern\n",
        "\"\"\"\n",
        "model_1 = SimpleCNN()\n",
        "criterion = nn.CrossEntropyLoss()\n",
        "optimizer = optim.Adam(model_1.parameters(), lr=0.001)\n",
        "\n",
        "for epoch in range(1):\n",
        "    for images, labels in dataloader:\n",
        "        # Forward-Pass\n",
        "        outputs = model_1(images)\n",
        "        loss = criterion(outputs, labels)\n",
        "\n",
        "        # Backward und Optimieren\n",
        "        optimizer.zero_grad()\n",
        "        loss.backward()\n",
        "        optimizer.step()"
      ]
    },
    {
      "cell_type": "code",
      "execution_count": null,
      "metadata": {
        "colab": {
          "base_uri": "https://localhost:8080/"
        },
        "id": "CBJ9kl0UWPkW",
        "outputId": "da8bbdbf-fc58-4ab6-8c84-11a86a31e331"
      },
      "outputs": [
        {
          "name": "stdout",
          "output_type": "stream",
          "text": [
            "Drive already mounted at /content/drive; to attempt to forcibly remount, call drive.mount(\"/content/drive\", force_remount=True).\n"
          ]
        }
      ],
      "source": [
        "\"\"\"\n",
        "Hier laden wir unser Model was wir davon gespeichert haben, damit man einen\n",
        "Lernfortschritt Verlust von über einer Stunde verhindert.\n",
        "\"\"\"\n",
        "drive.mount('/content/drive')\n",
        "\n",
        "model_1 = SimpleCNN()\n",
        "optimizer = optim.Adam(model_1.parameters(), lr=0.001)\n",
        "\n",
        "model_state = torch.load('/content/drive/My Drive/model_1.pth')\n",
        "\n",
        "model_1.load_state_dict(model_state['model'])\n",
        "optimizer.load_state_dict(model_state['optimizer'])"
      ]
    },
    {
      "cell_type": "code",
      "execution_count": 13,
      "metadata": {
        "colab": {
          "base_uri": "https://localhost:8080/"
        },
        "id": "rDJr1rneWvQX",
        "outputId": "44f8cfdc-7c56-4ee5-fb8e-310c94d1281e"
      },
      "outputs": [
        {
          "output_type": "stream",
          "name": "stdout",
          "text": [
            "Accuracy of the model on the test images: 71.1176925057945%\n"
          ]
        }
      ],
      "source": [
        "\"\"\"\n",
        "Quelle: https://www.youtube.com/watch?v=V_xro1bcAuA&t=43293s&ab_channel=freeCodeCamp.org\n",
        "Das Modell wird auf den Validations Datensatz ausgeführt und dabei auf die Korrektheit überprüft\n",
        "\"\"\"\n",
        "dataset = GenderDataset('/content/Validation', transform)\n",
        "dataloader = DataLoader(dataset, batch_size=32, shuffle=True)\n",
        "\n",
        "model_1.eval()\n",
        "total = 0\n",
        "correct = 0\n",
        "\n",
        "with torch.no_grad():\n",
        "    for images, labels in dataloader:\n",
        "        outputs = model_1(images)\n",
        "        _, guesses = torch.max(outputs.data, 1)\n",
        "        total += labels.size(0)\n",
        "        correct += (guesses == labels).sum().item()\n",
        "\n",
        "accuracy = 100 * correct / total\n",
        "print(f'Korrektheit des Modells: {accuracy}%')"
      ]
    }
  ],
  "metadata": {
    "accelerator": "GPU",
    "colab": {
      "provenance": []
    },
    "kernelspec": {
      "display_name": "Python 3",
      "name": "python3"
    },
    "language_info": {
      "name": "python"
    }
  },
  "nbformat": 4,
  "nbformat_minor": 0
}